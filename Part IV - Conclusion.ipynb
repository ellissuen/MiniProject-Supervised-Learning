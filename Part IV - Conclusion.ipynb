{
 "cells": [
  {
   "cell_type": "markdown",
   "id": "3c36f23a-06ac-47ad-a56c-028d278691a9",
   "metadata": {},
   "source": [
    "For my machine learning models of random forest and logistic regression, the logistic regression model did better and I can conclude that:\n",
    "\n",
    "* It achieved an overall arracy of 76%\n",
    "* It achieved 80% precision (80% of class \"no diabetes\" were corrected predicted) and 78% recall (78% of class \"diabetes were corrected predicted\")\n",
    "* F1-score (balanced measure of precision and recall) for \"no diabetes\" is 0.77 and \"diabetes\" = 0.75\n",
    "* The confusion matrix breaks down what the model got right or wrong with TP = 38 / TN = 44 // FP = 15 / FN = 11"
   ]
  },
  {
   "cell_type": "code",
   "execution_count": null,
   "id": "772d60a0-4c4e-4cb9-bfd2-813ff13cc70d",
   "metadata": {},
   "outputs": [],
   "source": []
  }
 ],
 "metadata": {
  "kernelspec": {
   "display_name": "THEpython3.9",
   "language": "python",
   "name": "thepython3.9"
  },
  "language_info": {
   "codemirror_mode": {
    "name": "ipython",
    "version": 3
   },
   "file_extension": ".py",
   "mimetype": "text/x-python",
   "name": "python",
   "nbconvert_exporter": "python",
   "pygments_lexer": "ipython3",
   "version": "3.9.18"
  }
 },
 "nbformat": 4,
 "nbformat_minor": 5
}
